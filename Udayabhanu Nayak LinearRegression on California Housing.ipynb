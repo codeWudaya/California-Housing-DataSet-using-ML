{
 "cells": [
  {
   "cell_type": "markdown",
   "id": "a5dfad20",
   "metadata": {},
   "source": [
    "## Linear regression\n",
    "\n",
    "Linear regression is a technique for modeling the relationship between a `dependent variable` and one or `more independent variables`. The basic idea is to find the `best-fit line` that `minimizes` the `sum of squared` differences between the observed and predicted values."
   ]
  },
  {
   "cell_type": "markdown",
   "id": "dfe92c1c",
   "metadata": {},
   "source": [
    "### simple linear regression model with one independent variable is given by:\n",
    "`y=mx+b`\n",
    "\n",
    "Where:\n",
    "#### `y` is the dependent variable\n",
    "#### `x` is the independent variable\n",
    "#### `m` is the slope of the line\n",
    "#### `b` is the y-intercept."
   ]
  },
  {
   "cell_type": "markdown",
   "id": "cc94d09f",
   "metadata": {},
   "source": [
    "`Linear regression` can be imported from `sklearn`"
   ]
  },
  {
   "cell_type": "markdown",
   "id": "7eb0b1fb",
   "metadata": {},
   "source": [
    "# Project on California Housing DataSet"
   ]
  },
  {
   "cell_type": "markdown",
   "id": "3b7e802a",
   "metadata": {},
   "source": [
    "#### Import Library"
   ]
  },
  {
   "cell_type": "code",
   "execution_count": 1,
   "id": "c72e6d53",
   "metadata": {},
   "outputs": [],
   "source": [
    "import numpy as np"
   ]
  },
  {
   "cell_type": "markdown",
   "id": "3d782ce7",
   "metadata": {},
   "source": [
    "#### Load the Boston Housing dataset"
   ]
  },
  {
   "cell_type": "code",
   "execution_count": 3,
   "id": "ce2bba67",
   "metadata": {},
   "outputs": [],
   "source": [
    "from sklearn.datasets import fetch_california_housing\n",
    "\n",
    "california_housing = fetch_california_housing()"
   ]
  },
  {
   "cell_type": "markdown",
   "id": "6aa86d59",
   "metadata": {},
   "source": [
    "#### independent variable"
   ]
  },
  {
   "cell_type": "code",
   "execution_count": 12,
   "id": "92228c5e",
   "metadata": {},
   "outputs": [
    {
     "data": {
      "text/plain": [
       "array([[   8.3252    ,   41.        ,    6.98412698, ...,    2.55555556,\n",
       "          37.88      , -122.23      ],\n",
       "       [   8.3014    ,   21.        ,    6.23813708, ...,    2.10984183,\n",
       "          37.86      , -122.22      ],\n",
       "       [   7.2574    ,   52.        ,    8.28813559, ...,    2.80225989,\n",
       "          37.85      , -122.24      ],\n",
       "       ...,\n",
       "       [   1.7       ,   17.        ,    5.20554273, ...,    2.3256351 ,\n",
       "          39.43      , -121.22      ],\n",
       "       [   1.8672    ,   18.        ,    5.32951289, ...,    2.12320917,\n",
       "          39.43      , -121.32      ],\n",
       "       [   2.3886    ,   16.        ,    5.25471698, ...,    2.61698113,\n",
       "          39.37      , -121.24      ]])"
      ]
     },
     "execution_count": 12,
     "metadata": {},
     "output_type": "execute_result"
    }
   ],
   "source": [
    "california_housing.data"
   ]
  },
  {
   "cell_type": "code",
   "execution_count": 13,
   "id": "d45f9102",
   "metadata": {},
   "outputs": [],
   "source": [
    "X = california_housing.data"
   ]
  },
  {
   "cell_type": "markdown",
   "id": "80734471",
   "metadata": {},
   "source": [
    "#### dependent variable"
   ]
  },
  {
   "cell_type": "code",
   "execution_count": 15,
   "id": "290bab27",
   "metadata": {},
   "outputs": [
    {
     "data": {
      "text/plain": [
       "array([4.526, 3.585, 3.521, ..., 0.923, 0.847, 0.894])"
      ]
     },
     "execution_count": 15,
     "metadata": {},
     "output_type": "execute_result"
    }
   ],
   "source": [
    "california_housing.target"
   ]
  },
  {
   "cell_type": "code",
   "execution_count": 14,
   "id": "48054e4b",
   "metadata": {},
   "outputs": [],
   "source": [
    "y = california_housing.target"
   ]
  },
  {
   "cell_type": "markdown",
   "id": "e3f60a37",
   "metadata": {},
   "source": [
    "#### Split the data into training and testing sets"
   ]
  },
  {
   "cell_type": "code",
   "execution_count": 17,
   "id": "28d45530",
   "metadata": {},
   "outputs": [],
   "source": [
    "from sklearn.model_selection import train_test_split"
   ]
  },
  {
   "cell_type": "code",
   "execution_count": 18,
   "id": "b203b73e",
   "metadata": {},
   "outputs": [],
   "source": [
    "X_train, X_test, y_train, y_test = train_test_split(X , y , test_size=0.2 , random_state=42)"
   ]
  },
  {
   "cell_type": "markdown",
   "id": "b3367c58",
   "metadata": {},
   "source": [
    "#### Model"
   ]
  },
  {
   "cell_type": "code",
   "execution_count": 19,
   "id": "cfbe1bd6",
   "metadata": {},
   "outputs": [],
   "source": [
    "from sklearn.linear_model import LinearRegression"
   ]
  },
  {
   "cell_type": "code",
   "execution_count": 20,
   "id": "cdd07267",
   "metadata": {},
   "outputs": [],
   "source": [
    "model = LinearRegression()"
   ]
  },
  {
   "cell_type": "markdown",
   "id": "7a6076da",
   "metadata": {},
   "source": [
    "#### Train the model on the training data"
   ]
  },
  {
   "cell_type": "code",
   "execution_count": 21,
   "id": "d1aae7d2",
   "metadata": {},
   "outputs": [
    {
     "data": {
      "text/html": [
       "<style>#sk-container-id-1 {color: black;}#sk-container-id-1 pre{padding: 0;}#sk-container-id-1 div.sk-toggleable {background-color: white;}#sk-container-id-1 label.sk-toggleable__label {cursor: pointer;display: block;width: 100%;margin-bottom: 0;padding: 0.3em;box-sizing: border-box;text-align: center;}#sk-container-id-1 label.sk-toggleable__label-arrow:before {content: \"▸\";float: left;margin-right: 0.25em;color: #696969;}#sk-container-id-1 label.sk-toggleable__label-arrow:hover:before {color: black;}#sk-container-id-1 div.sk-estimator:hover label.sk-toggleable__label-arrow:before {color: black;}#sk-container-id-1 div.sk-toggleable__content {max-height: 0;max-width: 0;overflow: hidden;text-align: left;background-color: #f0f8ff;}#sk-container-id-1 div.sk-toggleable__content pre {margin: 0.2em;color: black;border-radius: 0.25em;background-color: #f0f8ff;}#sk-container-id-1 input.sk-toggleable__control:checked~div.sk-toggleable__content {max-height: 200px;max-width: 100%;overflow: auto;}#sk-container-id-1 input.sk-toggleable__control:checked~label.sk-toggleable__label-arrow:before {content: \"▾\";}#sk-container-id-1 div.sk-estimator input.sk-toggleable__control:checked~label.sk-toggleable__label {background-color: #d4ebff;}#sk-container-id-1 div.sk-label input.sk-toggleable__control:checked~label.sk-toggleable__label {background-color: #d4ebff;}#sk-container-id-1 input.sk-hidden--visually {border: 0;clip: rect(1px 1px 1px 1px);clip: rect(1px, 1px, 1px, 1px);height: 1px;margin: -1px;overflow: hidden;padding: 0;position: absolute;width: 1px;}#sk-container-id-1 div.sk-estimator {font-family: monospace;background-color: #f0f8ff;border: 1px dotted black;border-radius: 0.25em;box-sizing: border-box;margin-bottom: 0.5em;}#sk-container-id-1 div.sk-estimator:hover {background-color: #d4ebff;}#sk-container-id-1 div.sk-parallel-item::after {content: \"\";width: 100%;border-bottom: 1px solid gray;flex-grow: 1;}#sk-container-id-1 div.sk-label:hover label.sk-toggleable__label {background-color: #d4ebff;}#sk-container-id-1 div.sk-serial::before {content: \"\";position: absolute;border-left: 1px solid gray;box-sizing: border-box;top: 0;bottom: 0;left: 50%;z-index: 0;}#sk-container-id-1 div.sk-serial {display: flex;flex-direction: column;align-items: center;background-color: white;padding-right: 0.2em;padding-left: 0.2em;position: relative;}#sk-container-id-1 div.sk-item {position: relative;z-index: 1;}#sk-container-id-1 div.sk-parallel {display: flex;align-items: stretch;justify-content: center;background-color: white;position: relative;}#sk-container-id-1 div.sk-item::before, #sk-container-id-1 div.sk-parallel-item::before {content: \"\";position: absolute;border-left: 1px solid gray;box-sizing: border-box;top: 0;bottom: 0;left: 50%;z-index: -1;}#sk-container-id-1 div.sk-parallel-item {display: flex;flex-direction: column;z-index: 1;position: relative;background-color: white;}#sk-container-id-1 div.sk-parallel-item:first-child::after {align-self: flex-end;width: 50%;}#sk-container-id-1 div.sk-parallel-item:last-child::after {align-self: flex-start;width: 50%;}#sk-container-id-1 div.sk-parallel-item:only-child::after {width: 0;}#sk-container-id-1 div.sk-dashed-wrapped {border: 1px dashed gray;margin: 0 0.4em 0.5em 0.4em;box-sizing: border-box;padding-bottom: 0.4em;background-color: white;}#sk-container-id-1 div.sk-label label {font-family: monospace;font-weight: bold;display: inline-block;line-height: 1.2em;}#sk-container-id-1 div.sk-label-container {text-align: center;}#sk-container-id-1 div.sk-container {/* jupyter's `normalize.less` sets `[hidden] { display: none; }` but bootstrap.min.css set `[hidden] { display: none !important; }` so we also need the `!important` here to be able to override the default hidden behavior on the sphinx rendered scikit-learn.org. See: https://github.com/scikit-learn/scikit-learn/issues/21755 */display: inline-block !important;position: relative;}#sk-container-id-1 div.sk-text-repr-fallback {display: none;}</style><div id=\"sk-container-id-1\" class=\"sk-top-container\"><div class=\"sk-text-repr-fallback\"><pre>LinearRegression()</pre><b>In a Jupyter environment, please rerun this cell to show the HTML representation or trust the notebook. <br />On GitHub, the HTML representation is unable to render, please try loading this page with nbviewer.org.</b></div><div class=\"sk-container\" hidden><div class=\"sk-item\"><div class=\"sk-estimator sk-toggleable\"><input class=\"sk-toggleable__control sk-hidden--visually\" id=\"sk-estimator-id-1\" type=\"checkbox\" checked><label for=\"sk-estimator-id-1\" class=\"sk-toggleable__label sk-toggleable__label-arrow\">LinearRegression</label><div class=\"sk-toggleable__content\"><pre>LinearRegression()</pre></div></div></div></div></div>"
      ],
      "text/plain": [
       "LinearRegression()"
      ]
     },
     "execution_count": 21,
     "metadata": {},
     "output_type": "execute_result"
    }
   ],
   "source": [
    "model.fit(X_train, y_train)"
   ]
  },
  {
   "cell_type": "markdown",
   "id": "6879122e",
   "metadata": {},
   "source": [
    "#### Make predictions on the test data"
   ]
  },
  {
   "cell_type": "code",
   "execution_count": 22,
   "id": "e21f6143",
   "metadata": {},
   "outputs": [],
   "source": [
    "y_pred = model.predict(X_test)"
   ]
  },
  {
   "cell_type": "markdown",
   "id": "ff3aee1c",
   "metadata": {},
   "source": [
    "#### Evaluate the model"
   ]
  },
  {
   "cell_type": "code",
   "execution_count": 23,
   "id": "5f7a8d96",
   "metadata": {},
   "outputs": [],
   "source": [
    "from sklearn.metrics import mean_squared_error"
   ]
  },
  {
   "cell_type": "code",
   "execution_count": 24,
   "id": "7f7d99cf",
   "metadata": {},
   "outputs": [],
   "source": [
    "mse = mean_squared_error(y_test,y_pred)"
   ]
  },
  {
   "cell_type": "code",
   "execution_count": 25,
   "id": "87536fe8",
   "metadata": {},
   "outputs": [
    {
     "name": "stdout",
     "output_type": "stream",
     "text": [
      "Mean Squared Error: 0.5558915986952419\n"
     ]
    }
   ],
   "source": [
    "print(f'Mean Squared Error: {mse}')"
   ]
  },
  {
   "cell_type": "markdown",
   "id": "bbcea493",
   "metadata": {},
   "source": [
    "#### Plot the regression line and actual vs. predicted values"
   ]
  },
  {
   "cell_type": "code",
   "execution_count": 26,
   "id": "5cec4efd",
   "metadata": {},
   "outputs": [],
   "source": [
    "import matplotlib.pyplot as plt"
   ]
  },
  {
   "cell_type": "code",
   "execution_count": 27,
   "id": "1b94a3a2",
   "metadata": {},
   "outputs": [
    {
     "data": {
      "image/png": "[encoded data removed]",
      "text/plain": [
       "<Figure size 640x480 with 1 Axes>"
      ]
     },
     "metadata": {},
     "output_type": "display_data"
    }
   ],
   "source": [
    "plt.scatter(y_test, y_pred, color='blue')\n",
    "plt.plot([y_test.min(), y_test.max()], [y_test.min(), y_test.max()], '--k', linewidth=3, label='Ideal Prediction')\n",
    "plt.xlabel('Actual Median House Value')\n",
    "plt.ylabel('Predicted Median House Value')\n",
    "plt.title('Linear Regression on California Housing Dataset')\n",
    "plt.legend()\n",
    "plt.show()"
   ]
  },
  {
   "cell_type": "markdown",
   "id": "3d777d39",
   "metadata": {},
   "source": [
    "## In this Project :\n",
    "\n",
    "#### We load the California Housing dataset.\n",
    "#### Split the data into training and testing sets.\n",
    "#### Create a linear regression model and train it using the training data.\n",
    "#### Make predictions on the test data and evaluate the model using mean squared error.\n",
    "#### Plot the actual vs. predicted median house values."
   ]
  },
  {
   "cell_type": "code",
   "execution_count": null,
   "id": "f0e15551",
   "metadata": {},
   "outputs": [],
   "source": []
  },
  {
   "cell_type": "markdown",
   "id": "996df8e8",
   "metadata": {},
   "source": [
    "## Let's Discuss `Interview questions` on `Linear Regression`"
   ]
  },
  {
   "cell_type": "markdown",
   "id": "9400c114",
   "metadata": {},
   "source": [
    "### 1. What is linear regression?\n",
    "#### Answer: Linear regression is a statistical method used to model the relationship between a dependent variable and one or more independent variables by fitting a linear equation to observed data. The goal is to find the best-fitting line that minimizes the sum of squared differences between the observed and predicted values.\n",
    "\n",
    "### 2. Explain the difference between simple linear regression and multiple linear regression.\n",
    "#### Answer: Simple linear regression involves predicting the dependent variable using only one independent variable. Multiple linear regression, on the other hand, involves predicting the dependent variable using two or more independent variables.\n",
    "\n",
    "### 3. What is the equation of a simple linear regression line?\n",
    "#### Answer: The equation of a simple linear regression line is given by: \n",
    "\n",
    "y=mx+b, where \n",
    "\n",
    "y is the dependent variable, \n",
    "\n",
    "x is the independent variable, \n",
    "\n",
    "m is the slope of the line, and \n",
    "\n",
    "b is the y-intercept.\n",
    "\n",
    "### 4. How is the best-fitting line determined in linear regression?\n",
    "#### Answer: The best-fitting line is determined by minimizing the sum of squared differences (residuals) between the observed and predicted values. This process is often done using the method of least squares.\n",
    "\n",
    "### 5. What is the interpretation of the slope in a linear regression model?\n",
    "#### Answer: The slope (\n",
    "\n",
    "m) represents the change in the dependent variable for a one-unit change in the independent variable, holding other variables constant. It indicates the strength and direction of the relationship between the variables.\n",
    "\n",
    "### 6. What is R-squared?\n",
    "#### Answer: R-squared is a measure of how well the independent variables explain the variability of the dependent variable. It ranges from 0 to 1, with a higher value indicating a better fit. It represents the proportion of the variance in the dependent variable that is predictable from the independent variables.\n",
    "\n",
    "### 7. What is multicollinearity, and why is it a problem in multiple linear regression?\n",
    "#### Answer: Multicollinearity occurs when two or more independent variables in a multiple regression model are highly correlated. It can cause issues in the estimation of individual regression coefficients, making it difficult to identify the true relationship between each independent variable and the dependent variable.\n",
    "\n",
    "### 8. How do you check for outliers in a linear regression model?\n",
    "#### Answer: Outliers can be detected by examining residual plots, leverage plots, or using statistical tests such as the Cook's distance. Outliers can have a significant impact on the results of a regression analysis and may need to be addressed.\n",
    "\n",
    "### 9. Can you explain the concept of homoscedasticity?\n",
    "#### Answer: Homoscedasticity refers to the assumption that the variance of the residuals is constant across all levels of the independent variable(s). In other words, the spread of the residuals should be roughly the same for all values of the independent variable.\n",
    "\n",
    "### 10. What are the limitations of linear regression?\n",
    "#### Answer: Linear regression assumes a linear relationship between variables, and its performance may degrade if the relationship is non-linear. It is also sensitive to outliers, and the presence of multicollinearity can affect the accuracy of coefficient estimates. Additionally, it assumes that the residuals are normally distributed."
   ]
  }
 ],
 "metadata": {
  "kernelspec": {
   "display_name": "Python 3 (ipykernel)",
   "language": "python",
   "name": "python3"
  },
  "language_info": {
   "codemirror_mode": {
    "name": "ipython",
    "version": 3
   },
   "file_extension": ".py",
   "mimetype": "text/x-python",
   "name": "python",
   "nbconvert_exporter": "python",
   "pygments_lexer": "ipython3",
   "version": "3.11.5"
  }
 },
 "nbformat": 4,
 "nbformat_minor": 5
}
